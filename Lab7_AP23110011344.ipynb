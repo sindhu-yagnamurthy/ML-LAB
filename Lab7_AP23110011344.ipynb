{
  "nbformat": 4,
  "nbformat_minor": 0,
  "metadata": {
    "colab": {
      "provenance": []
    },
    "kernelspec": {
      "name": "python3",
      "display_name": "Python 3"
    },
    "language_info": {
      "name": "python"
    }
  },
  "cells": [
    {
      "cell_type": "markdown",
      "source": [
        "KNN scratch implementation\n",
        "\n",
        "step 1) do basic pre processing,\n",
        "\n",
        "step 2) Scratch implementaion of KNN,\n",
        "\n",
        "step 3) KNN - SKlearn version"
      ],
      "metadata": {
        "id": "Ox0aGkXSHKUF"
      }
    },
    {
      "cell_type": "code",
      "source": [
        "#import all libraries\n",
        "import pandas as pd\n",
        "import numpy as np\n",
        "from collections import Counter\n",
        "from sklearn.model_selection import train_test_split\n",
        "from sklearn.metrics import accuracy_score\n",
        "from sklearn.preprocessing import LabelEncoder\n",
        "from sklearn.preprocessing import StandardScaler\n",
        "from sklearn.neighbors import KNeighborsClassifier"
      ],
      "metadata": {
        "id": "_5UPSAScHRx_"
      },
      "execution_count": 10,
      "outputs": []
    },
    {
      "cell_type": "markdown",
      "source": [
        "1) Loading the dataset"
      ],
      "metadata": {
        "id": "Ar5aQDnDKHTR"
      }
    },
    {
      "cell_type": "code",
      "source": [
        "!gdown 1ZdhRqYv-JizWV6DxO6C4R_k1kxPhmlF2\n",
        "# Load CSV\n",
        "df = pd.read_csv(\"multiclass.csv\")\n",
        "\n",
        "print(\"First 5 rows of dataset:\")\n",
        "print(df.head())\n",
        "\n",
        "print(\"\\nDataset Info:\")\n",
        "print(df.info())\n",
        "\n",
        "print(\"\\nShape of the dataset: \")\n",
        "print(df.shape)\n"
      ],
      "metadata": {
        "colab": {
          "base_uri": "https://localhost:8080/"
        },
        "id": "ypRj6tEtIuct",
        "outputId": "66c02a7c-0703-46b2-f606-f72b7ee40225"
      },
      "execution_count": 11,
      "outputs": [
        {
          "output_type": "stream",
          "name": "stdout",
          "text": [
            "Downloading...\n",
            "From: https://drive.google.com/uc?id=1ZdhRqYv-JizWV6DxO6C4R_k1kxPhmlF2\n",
            "To: /content/multiclass.csv\n",
            "\r  0% 0.00/14.6k [00:00<?, ?B/s]\r100% 14.6k/14.6k [00:00<00:00, 35.6MB/s]\n",
            "First 5 rows of dataset:\n",
            "   Region  Fresh  Milk  Grocery  Frozen  Detergents_Paper  Delicassen  class\n",
            "0       3  12669  9656     7561     214              2674        1338      2\n",
            "1       3   7057  9810     9568    1762              3293        1776      2\n",
            "2       3   6353  8808     7684    2405              3516        7844      2\n",
            "3       3  13265  1196     4221    6404               507        1788      1\n",
            "4       3  22615  5410     7198    3915              1777        5185      1\n",
            "\n",
            "Dataset Info:\n",
            "<class 'pandas.core.frame.DataFrame'>\n",
            "RangeIndex: 440 entries, 0 to 439\n",
            "Data columns (total 8 columns):\n",
            " #   Column            Non-Null Count  Dtype\n",
            "---  ------            --------------  -----\n",
            " 0   Region            440 non-null    int64\n",
            " 1   Fresh             440 non-null    int64\n",
            " 2   Milk              440 non-null    int64\n",
            " 3   Grocery           440 non-null    int64\n",
            " 4   Frozen            440 non-null    int64\n",
            " 5   Detergents_Paper  440 non-null    int64\n",
            " 6   Delicassen        440 non-null    int64\n",
            " 7   class             440 non-null    int64\n",
            "dtypes: int64(8)\n",
            "memory usage: 27.6 KB\n",
            "None\n",
            "\n",
            "Shape of the dataset: \n",
            "(440, 8)\n"
          ]
        }
      ]
    },
    {
      "cell_type": "markdown",
      "source": [
        "2) Handling null values"
      ],
      "metadata": {
        "id": "CiNtisVFKO6x"
      }
    },
    {
      "cell_type": "code",
      "source": [
        "print(\"\\nMissing Values:\\n\", df.isnull().sum())\n",
        "\n",
        "# Drop rows/columns with too many missing values or fill with mean/mode\n",
        "df = df.dropna()   # (or use df.fillna(method=\"ffill\") depending on dataset)\n",
        "\n",
        "print(\"\\nAfter handling missing values:\", df.shape)"
      ],
      "metadata": {
        "colab": {
          "base_uri": "https://localhost:8080/"
        },
        "id": "7TWTG6K7KNa0",
        "outputId": "e16b882a-539e-4015-81b8-a4370810c552"
      },
      "execution_count": 12,
      "outputs": [
        {
          "output_type": "stream",
          "name": "stdout",
          "text": [
            "\n",
            "Missing Values:\n",
            " Region              0\n",
            "Fresh               0\n",
            "Milk                0\n",
            "Grocery             0\n",
            "Frozen              0\n",
            "Detergents_Paper    0\n",
            "Delicassen          0\n",
            "class               0\n",
            "dtype: int64\n",
            "\n",
            "After handling missing values: (440, 8)\n"
          ]
        }
      ]
    },
    {
      "cell_type": "markdown",
      "source": [
        "3) Duplicate values"
      ],
      "metadata": {
        "id": "ETsQLATXKqww"
      }
    },
    {
      "cell_type": "code",
      "source": [
        "print(\"\\nDuplicate Rows:\", df.duplicated().sum())\n",
        "df = df.drop_duplicates()\n",
        "\n",
        "print(\"After removing duplicates:\", df.shape)"
      ],
      "metadata": {
        "colab": {
          "base_uri": "https://localhost:8080/"
        },
        "id": "xEc_7Z99Ky_A",
        "outputId": "234a451b-3870-4ff6-a097-8cfd123324db"
      },
      "execution_count": 13,
      "outputs": [
        {
          "output_type": "stream",
          "name": "stdout",
          "text": [
            "\n",
            "Duplicate Rows: 0\n",
            "After removing duplicates: (440, 8)\n"
          ]
        }
      ]
    },
    {
      "cell_type": "markdown",
      "source": [
        "4) Encode Categorical values"
      ],
      "metadata": {
        "id": "hNh80xCoK2_S"
      }
    },
    {
      "cell_type": "code",
      "source": [
        "cat_cols = df.select_dtypes(include=['object']).columns\n",
        "print(\"\\nCategorical Columns:\", cat_cols)\n",
        "\n",
        "# Label encode each categorical column\n",
        "le = LabelEncoder()\n",
        "for col in cat_cols:\n",
        "    df[col] = le.fit_transform(df[col])\n",
        "\n",
        "print(\"\\nAfter Label Encoding:\")\n",
        "print(df.head())"
      ],
      "metadata": {
        "colab": {
          "base_uri": "https://localhost:8080/"
        },
        "id": "VSnTpgICLHZp",
        "outputId": "bf9fe999-bd97-4a65-ba39-6e888962ecf9"
      },
      "execution_count": 14,
      "outputs": [
        {
          "output_type": "stream",
          "name": "stdout",
          "text": [
            "\n",
            "Categorical Columns: Index([], dtype='object')\n",
            "\n",
            "After Label Encoding:\n",
            "   Region  Fresh  Milk  Grocery  Frozen  Detergents_Paper  Delicassen  class\n",
            "0       3  12669  9656     7561     214              2674        1338      2\n",
            "1       3   7057  9810     9568    1762              3293        1776      2\n",
            "2       3   6353  8808     7684    2405              3516        7844      2\n",
            "3       3  13265  1196     4221    6404               507        1788      1\n",
            "4       3  22615  5410     7198    3915              1777        5185      1\n"
          ]
        }
      ]
    },
    {
      "cell_type": "markdown",
      "source": [
        "5) Feature scaling"
      ],
      "metadata": {
        "id": "ebdA7m7dLmkH"
      }
    },
    {
      "cell_type": "code",
      "source": [
        "X = df.iloc[:, :-1]   # all columns except last as features\n",
        "y = df.iloc[:, -1]    # last column as target\n",
        "\n",
        "scaler = StandardScaler()\n",
        "X_scaled = scaler.fit_transform(X)\n",
        "\n",
        "print(\"\\nScaled Feature Sample:\\n\", X_scaled[:5])"
      ],
      "metadata": {
        "colab": {
          "base_uri": "https://localhost:8080/"
        },
        "id": "cr8c7Gt5Lo2F",
        "outputId": "d001eb89-75ed-45f4-a5da-b4a409108c12"
      },
      "execution_count": 15,
      "outputs": [
        {
          "output_type": "stream",
          "name": "stdout",
          "text": [
            "\n",
            "Scaled Feature Sample:\n",
            " [[ 0.59066829  0.05293319  0.52356777 -0.04111489 -0.58936716 -0.04356873\n",
            "  -0.06633906]\n",
            " [ 0.59066829 -0.39130197  0.54445767  0.17031835 -0.27013618  0.08640684\n",
            "   0.08915105]\n",
            " [ 0.59066829 -0.44702926  0.40853771 -0.0281571  -0.13753572  0.13323164\n",
            "   2.24329255]\n",
            " [ 0.59066829  0.10011141 -0.62401993 -0.3929769   0.6871443  -0.49858822\n",
            "   0.09341105]\n",
            " [ 0.59066829  0.84023948 -0.05239645 -0.07935618  0.17385884 -0.23191782\n",
            "   1.29934689]]\n"
          ]
        }
      ]
    },
    {
      "cell_type": "markdown",
      "source": [
        "6) Splitting the data for training and testing"
      ],
      "metadata": {
        "id": "v8-8dIIHNwuy"
      }
    },
    {
      "cell_type": "code",
      "source": [
        "X_train, X_test, y_train, y_test = train_test_split(\n",
        "    X_scaled, y, test_size=0.2, random_state=42, stratify=y\n",
        ")\n",
        "\n",
        "print(\"\\nTrain Shape:\", X_train.shape, \"Test Shape:\", X_test.shape)"
      ],
      "metadata": {
        "colab": {
          "base_uri": "https://localhost:8080/"
        },
        "id": "rIFCl6mvN3Or",
        "outputId": "179a2232-dd40-40f3-819c-95ffd23a7ab9"
      },
      "execution_count": 16,
      "outputs": [
        {
          "output_type": "stream",
          "name": "stdout",
          "text": [
            "\n",
            "Train Shape: (352, 7) Test Shape: (88, 7)\n"
          ]
        }
      ]
    },
    {
      "cell_type": "markdown",
      "source": [
        "=> KNN function"
      ],
      "metadata": {
        "id": "KlgoCezJO6s5"
      }
    },
    {
      "cell_type": "code",
      "source": [
        "def euclidean_distance(x1, x2):\n",
        "    return np.sqrt(np.sum((x1 - x2) ** 2))\n",
        "\n",
        "def knn_predict(X_train, y_train, X_test, k=3):\n",
        "    predictions = []\n",
        "    # ensure numpy arrays\n",
        "    X_train = np.array(X_train)\n",
        "    y_train = np.array(y_train)\n",
        "    for x in X_test:\n",
        "        # Compute distances\n",
        "        distances = [np.sqrt(np.sum((x - x_train) ** 2)) for x_train in X_train]\n",
        "        # Get indices of k nearest neighbors\n",
        "        k_indices = np.argsort(distances)[:k]\n",
        "        # Get labels\n",
        "        k_neighbor_labels = [y_train[i] for i in k_indices]\n",
        "        # Majority vote\n",
        "        most_common = Counter(k_neighbor_labels).most_common(1)[0][0]\n",
        "        predictions.append(most_common)\n",
        "    return np.array(predictions)\n",
        "\n",
        "\n",
        "y_pred_scratch = knn_predict(X_train, y_train, X_test, k=3)\n",
        "print(\"\\nScratch KNN Accuracy (function version):\", accuracy_score(y_test, y_pred_scratch))"
      ],
      "metadata": {
        "colab": {
          "base_uri": "https://localhost:8080/"
        },
        "id": "iVd0jjTbPFoc",
        "outputId": "77a4e97c-7872-475f-d1d6-a407f03351bb"
      },
      "execution_count": 18,
      "outputs": [
        {
          "output_type": "stream",
          "name": "stdout",
          "text": [
            "\n",
            "Scratch KNN Accuracy (function version): 0.9659090909090909\n"
          ]
        }
      ]
    },
    {
      "cell_type": "markdown",
      "source": [
        "=> KNN using scikit learn\n"
      ],
      "metadata": {
        "id": "fhP8eeA1RRo3"
      }
    },
    {
      "cell_type": "code",
      "source": [
        "knn_sklearn = KNeighborsClassifier(n_neighbors=3)\n",
        "knn_sklearn.fit(X_train, y_train)\n",
        "y_pred_sklearn = knn_sklearn.predict(X_test)\n",
        "\n",
        "print(\"Sklearn KNN Accuracy:\", accuracy_score(y_test, y_pred_sklearn))"
      ],
      "metadata": {
        "colab": {
          "base_uri": "https://localhost:8080/"
        },
        "id": "RMUJSffXRVsG",
        "outputId": "c5acaa98-dfb6-4f38-cc93-8705f1112cf7"
      },
      "execution_count": 20,
      "outputs": [
        {
          "output_type": "stream",
          "name": "stdout",
          "text": [
            "Sklearn KNN Accuracy: 0.9659090909090909\n"
          ]
        }
      ]
    }
  ]
}