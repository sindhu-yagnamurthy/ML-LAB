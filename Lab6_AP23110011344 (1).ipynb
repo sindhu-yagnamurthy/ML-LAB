{
  "nbformat": 4,
  "nbformat_minor": 0,
  "metadata": {
    "colab": {
      "provenance": []
    },
    "kernelspec": {
      "name": "python3",
      "display_name": "Python 3"
    },
    "language_info": {
      "name": "python"
    }
  },
  "cells": [
    {
      "cell_type": "code",
      "execution_count": 1,
      "metadata": {
        "id": "BAVpDOBTy7j8"
      },
      "outputs": [],
      "source": [
        "\n",
        "#@title Install & import (safe to re-run)\n",
        "import sys, subprocess\n",
        "\n",
        "def pip_install(pkg):\n",
        "    subprocess.run([sys.executable, \"-m\", \"pip\", \"install\", \"-q\", pkg], check=False)\n",
        "\n",
        "pip_install(\"gdown>=5.1\")\n",
        "pip_install(\"pandas>=1.5\")\n",
        "pip_install(\"numpy>=1.23\")\n",
        "pip_install(\"matplotlib>=3.7\")\n",
        "pip_install(\"scikit-learn>=1.3\")\n",
        "\n",
        "import gdown, os\n",
        "import numpy as np\n",
        "import pandas as pd\n",
        "import matplotlib.pyplot as plt\n",
        "\n",
        "from sklearn.model_selection import train_test_split, GridSearchCV\n",
        "from sklearn.linear_model import LinearRegression\n",
        "from sklearn.preprocessing import PolynomialFeatures, StandardScaler\n",
        "from sklearn.pipeline import Pipeline\n",
        "from sklearn.metrics import mean_absolute_error, mean_squared_error, r2_score\n",
        "#package.module\n"
      ]
    },
    {
      "cell_type": "code",
      "source": [
        "import gdown, os, pandas as pd\n",
        "\n",
        "GDOWN_ID = \"1VXJ0VcTBUsdbKs9FBNYMUP7gnemZ7W1q\"  # replace with your file’s ID\n",
        "OUTPUT_CSV = \"StudentsPerformance.csv\"\n",
        "\n",
        "if not os.path.exists(OUTPUT_CSV):\n",
        "    url = f\"https://drive.google.com/uc?id={GDOWN_ID}\"\n",
        "    gdown.download(url, OUTPUT_CSV, quiet=False)\n",
        "else:\n",
        "    print(\"Found existing file:\", OUTPUT_CSV)\n",
        "\n",
        "df = pd.read_csv(OUTPUT_CSV)\n",
        "print(\"✅ Loaded:\", df.shape)\n",
        "df.head()\n"
      ],
      "metadata": {
        "colab": {
          "base_uri": "https://localhost:8080/",
          "height": 293
        },
        "id": "ZRqdOIA_zGXW",
        "outputId": "dc04161c-34a0-4348-9c79-d5bb8cc3c85b"
      },
      "execution_count": 2,
      "outputs": [
        {
          "output_type": "stream",
          "name": "stderr",
          "text": [
            "Downloading...\n",
            "From: https://drive.google.com/uc?id=1VXJ0VcTBUsdbKs9FBNYMUP7gnemZ7W1q\n",
            "To: /content/StudentsPerformance.csv\n",
            "100%|██████████| 72.0k/72.0k [00:00<00:00, 24.8MB/s]"
          ]
        },
        {
          "output_type": "stream",
          "name": "stdout",
          "text": [
            "✅ Loaded: (1000, 8)\n"
          ]
        },
        {
          "output_type": "stream",
          "name": "stderr",
          "text": [
            "\n"
          ]
        },
        {
          "output_type": "execute_result",
          "data": {
            "text/plain": [
              "   gender race/ethnicity parental level of education         lunch  \\\n",
              "0  female        group B           bachelor's degree      standard   \n",
              "1  female        group C                some college      standard   \n",
              "2  female        group B             master's degree      standard   \n",
              "3    male        group A          associate's degree  free/reduced   \n",
              "4    male        group C                some college      standard   \n",
              "\n",
              "  test preparation course  math score  reading score  writing score  \n",
              "0                    none          72             72             74  \n",
              "1               completed          69             90             88  \n",
              "2                    none          90             95             93  \n",
              "3                    none          47             57             44  \n",
              "4                    none          76             78             75  "
            ],
            "text/html": [
              "\n",
              "  <div id=\"df-303ec5b3-d653-448e-bf18-b2675b0370a5\" class=\"colab-df-container\">\n",
              "    <div>\n",
              "<style scoped>\n",
              "    .dataframe tbody tr th:only-of-type {\n",
              "        vertical-align: middle;\n",
              "    }\n",
              "\n",
              "    .dataframe tbody tr th {\n",
              "        vertical-align: top;\n",
              "    }\n",
              "\n",
              "    .dataframe thead th {\n",
              "        text-align: right;\n",
              "    }\n",
              "</style>\n",
              "<table border=\"1\" class=\"dataframe\">\n",
              "  <thead>\n",
              "    <tr style=\"text-align: right;\">\n",
              "      <th></th>\n",
              "      <th>gender</th>\n",
              "      <th>race/ethnicity</th>\n",
              "      <th>parental level of education</th>\n",
              "      <th>lunch</th>\n",
              "      <th>test preparation course</th>\n",
              "      <th>math score</th>\n",
              "      <th>reading score</th>\n",
              "      <th>writing score</th>\n",
              "    </tr>\n",
              "  </thead>\n",
              "  <tbody>\n",
              "    <tr>\n",
              "      <th>0</th>\n",
              "      <td>female</td>\n",
              "      <td>group B</td>\n",
              "      <td>bachelor's degree</td>\n",
              "      <td>standard</td>\n",
              "      <td>none</td>\n",
              "      <td>72</td>\n",
              "      <td>72</td>\n",
              "      <td>74</td>\n",
              "    </tr>\n",
              "    <tr>\n",
              "      <th>1</th>\n",
              "      <td>female</td>\n",
              "      <td>group C</td>\n",
              "      <td>some college</td>\n",
              "      <td>standard</td>\n",
              "      <td>completed</td>\n",
              "      <td>69</td>\n",
              "      <td>90</td>\n",
              "      <td>88</td>\n",
              "    </tr>\n",
              "    <tr>\n",
              "      <th>2</th>\n",
              "      <td>female</td>\n",
              "      <td>group B</td>\n",
              "      <td>master's degree</td>\n",
              "      <td>standard</td>\n",
              "      <td>none</td>\n",
              "      <td>90</td>\n",
              "      <td>95</td>\n",
              "      <td>93</td>\n",
              "    </tr>\n",
              "    <tr>\n",
              "      <th>3</th>\n",
              "      <td>male</td>\n",
              "      <td>group A</td>\n",
              "      <td>associate's degree</td>\n",
              "      <td>free/reduced</td>\n",
              "      <td>none</td>\n",
              "      <td>47</td>\n",
              "      <td>57</td>\n",
              "      <td>44</td>\n",
              "    </tr>\n",
              "    <tr>\n",
              "      <th>4</th>\n",
              "      <td>male</td>\n",
              "      <td>group C</td>\n",
              "      <td>some college</td>\n",
              "      <td>standard</td>\n",
              "      <td>none</td>\n",
              "      <td>76</td>\n",
              "      <td>78</td>\n",
              "      <td>75</td>\n",
              "    </tr>\n",
              "  </tbody>\n",
              "</table>\n",
              "</div>\n",
              "    <div class=\"colab-df-buttons\">\n",
              "\n",
              "  <div class=\"colab-df-container\">\n",
              "    <button class=\"colab-df-convert\" onclick=\"convertToInteractive('df-303ec5b3-d653-448e-bf18-b2675b0370a5')\"\n",
              "            title=\"Convert this dataframe to an interactive table.\"\n",
              "            style=\"display:none;\">\n",
              "\n",
              "  <svg xmlns=\"http://www.w3.org/2000/svg\" height=\"24px\" viewBox=\"0 -960 960 960\">\n",
              "    <path d=\"M120-120v-720h720v720H120Zm60-500h600v-160H180v160Zm220 220h160v-160H400v160Zm0 220h160v-160H400v160ZM180-400h160v-160H180v160Zm440 0h160v-160H620v160ZM180-180h160v-160H180v160Zm440 0h160v-160H620v160Z\"/>\n",
              "  </svg>\n",
              "    </button>\n",
              "\n",
              "  <style>\n",
              "    .colab-df-container {\n",
              "      display:flex;\n",
              "      gap: 12px;\n",
              "    }\n",
              "\n",
              "    .colab-df-convert {\n",
              "      background-color: #E8F0FE;\n",
              "      border: none;\n",
              "      border-radius: 50%;\n",
              "      cursor: pointer;\n",
              "      display: none;\n",
              "      fill: #1967D2;\n",
              "      height: 32px;\n",
              "      padding: 0 0 0 0;\n",
              "      width: 32px;\n",
              "    }\n",
              "\n",
              "    .colab-df-convert:hover {\n",
              "      background-color: #E2EBFA;\n",
              "      box-shadow: 0px 1px 2px rgba(60, 64, 67, 0.3), 0px 1px 3px 1px rgba(60, 64, 67, 0.15);\n",
              "      fill: #174EA6;\n",
              "    }\n",
              "\n",
              "    .colab-df-buttons div {\n",
              "      margin-bottom: 4px;\n",
              "    }\n",
              "\n",
              "    [theme=dark] .colab-df-convert {\n",
              "      background-color: #3B4455;\n",
              "      fill: #D2E3FC;\n",
              "    }\n",
              "\n",
              "    [theme=dark] .colab-df-convert:hover {\n",
              "      background-color: #434B5C;\n",
              "      box-shadow: 0px 1px 3px 1px rgba(0, 0, 0, 0.15);\n",
              "      filter: drop-shadow(0px 1px 2px rgba(0, 0, 0, 0.3));\n",
              "      fill: #FFFFFF;\n",
              "    }\n",
              "  </style>\n",
              "\n",
              "    <script>\n",
              "      const buttonEl =\n",
              "        document.querySelector('#df-303ec5b3-d653-448e-bf18-b2675b0370a5 button.colab-df-convert');\n",
              "      buttonEl.style.display =\n",
              "        google.colab.kernel.accessAllowed ? 'block' : 'none';\n",
              "\n",
              "      async function convertToInteractive(key) {\n",
              "        const element = document.querySelector('#df-303ec5b3-d653-448e-bf18-b2675b0370a5');\n",
              "        const dataTable =\n",
              "          await google.colab.kernel.invokeFunction('convertToInteractive',\n",
              "                                                    [key], {});\n",
              "        if (!dataTable) return;\n",
              "\n",
              "        const docLinkHtml = 'Like what you see? Visit the ' +\n",
              "          '<a target=\"_blank\" href=https://colab.research.google.com/notebooks/data_table.ipynb>data table notebook</a>'\n",
              "          + ' to learn more about interactive tables.';\n",
              "        element.innerHTML = '';\n",
              "        dataTable['output_type'] = 'display_data';\n",
              "        await google.colab.output.renderOutput(dataTable, element);\n",
              "        const docLink = document.createElement('div');\n",
              "        docLink.innerHTML = docLinkHtml;\n",
              "        element.appendChild(docLink);\n",
              "      }\n",
              "    </script>\n",
              "  </div>\n",
              "\n",
              "\n",
              "    <div id=\"df-44f2491f-ac8c-44d6-b450-18cd366c7cc6\">\n",
              "      <button class=\"colab-df-quickchart\" onclick=\"quickchart('df-44f2491f-ac8c-44d6-b450-18cd366c7cc6')\"\n",
              "                title=\"Suggest charts\"\n",
              "                style=\"display:none;\">\n",
              "\n",
              "<svg xmlns=\"http://www.w3.org/2000/svg\" height=\"24px\"viewBox=\"0 0 24 24\"\n",
              "     width=\"24px\">\n",
              "    <g>\n",
              "        <path d=\"M19 3H5c-1.1 0-2 .9-2 2v14c0 1.1.9 2 2 2h14c1.1 0 2-.9 2-2V5c0-1.1-.9-2-2-2zM9 17H7v-7h2v7zm4 0h-2V7h2v10zm4 0h-2v-4h2v4z\"/>\n",
              "    </g>\n",
              "</svg>\n",
              "      </button>\n",
              "\n",
              "<style>\n",
              "  .colab-df-quickchart {\n",
              "      --bg-color: #E8F0FE;\n",
              "      --fill-color: #1967D2;\n",
              "      --hover-bg-color: #E2EBFA;\n",
              "      --hover-fill-color: #174EA6;\n",
              "      --disabled-fill-color: #AAA;\n",
              "      --disabled-bg-color: #DDD;\n",
              "  }\n",
              "\n",
              "  [theme=dark] .colab-df-quickchart {\n",
              "      --bg-color: #3B4455;\n",
              "      --fill-color: #D2E3FC;\n",
              "      --hover-bg-color: #434B5C;\n",
              "      --hover-fill-color: #FFFFFF;\n",
              "      --disabled-bg-color: #3B4455;\n",
              "      --disabled-fill-color: #666;\n",
              "  }\n",
              "\n",
              "  .colab-df-quickchart {\n",
              "    background-color: var(--bg-color);\n",
              "    border: none;\n",
              "    border-radius: 50%;\n",
              "    cursor: pointer;\n",
              "    display: none;\n",
              "    fill: var(--fill-color);\n",
              "    height: 32px;\n",
              "    padding: 0;\n",
              "    width: 32px;\n",
              "  }\n",
              "\n",
              "  .colab-df-quickchart:hover {\n",
              "    background-color: var(--hover-bg-color);\n",
              "    box-shadow: 0 1px 2px rgba(60, 64, 67, 0.3), 0 1px 3px 1px rgba(60, 64, 67, 0.15);\n",
              "    fill: var(--button-hover-fill-color);\n",
              "  }\n",
              "\n",
              "  .colab-df-quickchart-complete:disabled,\n",
              "  .colab-df-quickchart-complete:disabled:hover {\n",
              "    background-color: var(--disabled-bg-color);\n",
              "    fill: var(--disabled-fill-color);\n",
              "    box-shadow: none;\n",
              "  }\n",
              "\n",
              "  .colab-df-spinner {\n",
              "    border: 2px solid var(--fill-color);\n",
              "    border-color: transparent;\n",
              "    border-bottom-color: var(--fill-color);\n",
              "    animation:\n",
              "      spin 1s steps(1) infinite;\n",
              "  }\n",
              "\n",
              "  @keyframes spin {\n",
              "    0% {\n",
              "      border-color: transparent;\n",
              "      border-bottom-color: var(--fill-color);\n",
              "      border-left-color: var(--fill-color);\n",
              "    }\n",
              "    20% {\n",
              "      border-color: transparent;\n",
              "      border-left-color: var(--fill-color);\n",
              "      border-top-color: var(--fill-color);\n",
              "    }\n",
              "    30% {\n",
              "      border-color: transparent;\n",
              "      border-left-color: var(--fill-color);\n",
              "      border-top-color: var(--fill-color);\n",
              "      border-right-color: var(--fill-color);\n",
              "    }\n",
              "    40% {\n",
              "      border-color: transparent;\n",
              "      border-right-color: var(--fill-color);\n",
              "      border-top-color: var(--fill-color);\n",
              "    }\n",
              "    60% {\n",
              "      border-color: transparent;\n",
              "      border-right-color: var(--fill-color);\n",
              "    }\n",
              "    80% {\n",
              "      border-color: transparent;\n",
              "      border-right-color: var(--fill-color);\n",
              "      border-bottom-color: var(--fill-color);\n",
              "    }\n",
              "    90% {\n",
              "      border-color: transparent;\n",
              "      border-bottom-color: var(--fill-color);\n",
              "    }\n",
              "  }\n",
              "</style>\n",
              "\n",
              "      <script>\n",
              "        async function quickchart(key) {\n",
              "          const quickchartButtonEl =\n",
              "            document.querySelector('#' + key + ' button');\n",
              "          quickchartButtonEl.disabled = true;  // To prevent multiple clicks.\n",
              "          quickchartButtonEl.classList.add('colab-df-spinner');\n",
              "          try {\n",
              "            const charts = await google.colab.kernel.invokeFunction(\n",
              "                'suggestCharts', [key], {});\n",
              "          } catch (error) {\n",
              "            console.error('Error during call to suggestCharts:', error);\n",
              "          }\n",
              "          quickchartButtonEl.classList.remove('colab-df-spinner');\n",
              "          quickchartButtonEl.classList.add('colab-df-quickchart-complete');\n",
              "        }\n",
              "        (() => {\n",
              "          let quickchartButtonEl =\n",
              "            document.querySelector('#df-44f2491f-ac8c-44d6-b450-18cd366c7cc6 button');\n",
              "          quickchartButtonEl.style.display =\n",
              "            google.colab.kernel.accessAllowed ? 'block' : 'none';\n",
              "        })();\n",
              "      </script>\n",
              "    </div>\n",
              "\n",
              "    </div>\n",
              "  </div>\n"
            ],
            "application/vnd.google.colaboratory.intrinsic+json": {
              "type": "dataframe",
              "variable_name": "df",
              "summary": "{\n  \"name\": \"df\",\n  \"rows\": 1000,\n  \"fields\": [\n    {\n      \"column\": \"gender\",\n      \"properties\": {\n        \"dtype\": \"category\",\n        \"num_unique_values\": 2,\n        \"samples\": [\n          \"male\",\n          \"female\"\n        ],\n        \"semantic_type\": \"\",\n        \"description\": \"\"\n      }\n    },\n    {\n      \"column\": \"race/ethnicity\",\n      \"properties\": {\n        \"dtype\": \"category\",\n        \"num_unique_values\": 5,\n        \"samples\": [\n          \"group C\",\n          \"group E\"\n        ],\n        \"semantic_type\": \"\",\n        \"description\": \"\"\n      }\n    },\n    {\n      \"column\": \"parental level of education\",\n      \"properties\": {\n        \"dtype\": \"category\",\n        \"num_unique_values\": 6,\n        \"samples\": [\n          \"bachelor's degree\",\n          \"some college\"\n        ],\n        \"semantic_type\": \"\",\n        \"description\": \"\"\n      }\n    },\n    {\n      \"column\": \"lunch\",\n      \"properties\": {\n        \"dtype\": \"category\",\n        \"num_unique_values\": 2,\n        \"samples\": [\n          \"free/reduced\",\n          \"standard\"\n        ],\n        \"semantic_type\": \"\",\n        \"description\": \"\"\n      }\n    },\n    {\n      \"column\": \"test preparation course\",\n      \"properties\": {\n        \"dtype\": \"category\",\n        \"num_unique_values\": 2,\n        \"samples\": [\n          \"completed\",\n          \"none\"\n        ],\n        \"semantic_type\": \"\",\n        \"description\": \"\"\n      }\n    },\n    {\n      \"column\": \"math score\",\n      \"properties\": {\n        \"dtype\": \"number\",\n        \"std\": 15,\n        \"min\": 0,\n        \"max\": 100,\n        \"num_unique_values\": 81,\n        \"samples\": [\n          55,\n          72\n        ],\n        \"semantic_type\": \"\",\n        \"description\": \"\"\n      }\n    },\n    {\n      \"column\": \"reading score\",\n      \"properties\": {\n        \"dtype\": \"number\",\n        \"std\": 14,\n        \"min\": 17,\n        \"max\": 100,\n        \"num_unique_values\": 72,\n        \"samples\": [\n          78,\n          23\n        ],\n        \"semantic_type\": \"\",\n        \"description\": \"\"\n      }\n    },\n    {\n      \"column\": \"writing score\",\n      \"properties\": {\n        \"dtype\": \"number\",\n        \"std\": 15,\n        \"min\": 10,\n        \"max\": 100,\n        \"num_unique_values\": 77,\n        \"samples\": [\n          75,\n          76\n        ],\n        \"semantic_type\": \"\",\n        \"description\": \"\"\n      }\n    }\n  ]\n}"
            }
          },
          "metadata": {},
          "execution_count": 2
        }
      ]
    },
    {
      "cell_type": "code",
      "source": [
        "import pandas as pd\n",
        "import numpy as np\n",
        "from sklearn.impute import SimpleImputer\n",
        "from sklearn.preprocessing import StandardScaler, MinMaxScaler, OrdinalEncoder\n",
        "\n",
        "# 1) Standardize column names\n",
        "df.columns = df.columns.str.strip().str.lower().str.replace(\" \", \"_\")\n",
        "print(\"✅ Standardized column names:\", list(df.columns))\n",
        "\n",
        "# 2) Check duplicates\n",
        "print(\"Duplicates count:\", df.duplicated().sum())\n",
        "df = df.drop_duplicates()\n",
        "\n",
        "# 3) Columns with missing values\n",
        "print(\"Missing values per column:\")\n",
        "print(df.isnull().sum())\n",
        "\n",
        "# 4) Numeric imputation strategy (example: mean)\n",
        "num_cols = df.select_dtypes(include=np.number).columns\n",
        "print(\"Numeric columns:\", list(num_cols))\n",
        "\n",
        "num_imputer = SimpleImputer(strategy=\"mean\")   # or \"median\"\n",
        "df[num_cols] = num_imputer.fit_transform(df[num_cols])\n",
        "\n",
        "# 5) Categorical imputation (most_frequent)\n",
        "cat_cols = df.select_dtypes(exclude=np.number).columns\n",
        "print(\"Categorical columns:\", list(cat_cols))\n",
        "\n",
        "cat_imputer = SimpleImputer(strategy=\"most_frequent\")\n",
        "df[cat_cols] = cat_imputer.fit_transform(df[cat_cols])\n",
        "\n",
        "# 6) Encoding strategy (One Hot Encoding)\n",
        "df = pd.get_dummies(df, drop_first=True)\n",
        "\n",
        "# 7) Scaling strategy (StandardScaler or MinMax)\n",
        "scaler = StandardScaler()\n",
        "df[num_cols] = scaler.fit_transform(df[num_cols])\n",
        "\n",
        "# 8) Outlier handling (IQR method example)\n",
        "for col in num_cols:\n",
        "    Q1 = df[col].quantile(0.25)\n",
        "    Q3 = df[col].quantile(0.75)\n",
        "    IQR = Q3 - Q1\n",
        "    lower = Q1 - 1.5*IQR\n",
        "    upper = Q3 + 1.5*IQR\n",
        "    outliers = df[(df[col] < lower) | (df[col] > upper)]\n",
        "    print(f\"Outliers in {col}: {len(outliers)}\")\n",
        "\n",
        "# 9) Feature selection/dropping (example: drop writing_score if highly correlated with reading_score)\n",
        "# You can check correlations first\n",
        "corr = df.corr()\n",
        "print(corr[\"math_score\"].sort_values(ascending=False))\n"
      ],
      "metadata": {
        "colab": {
          "base_uri": "https://localhost:8080/"
        },
        "id": "doNGBnRY0zMr",
        "outputId": "33616e26-3e4c-43bd-e876-ae53e5da4dfa"
      },
      "execution_count": 3,
      "outputs": [
        {
          "output_type": "stream",
          "name": "stdout",
          "text": [
            "✅ Standardized column names: ['gender', 'race/ethnicity', 'parental_level_of_education', 'lunch', 'test_preparation_course', 'math_score', 'reading_score', 'writing_score']\n",
            "Duplicates count: 0\n",
            "Missing values per column:\n",
            "gender                         0\n",
            "race/ethnicity                 0\n",
            "parental_level_of_education    0\n",
            "lunch                          0\n",
            "test_preparation_course        0\n",
            "math_score                     0\n",
            "reading_score                  0\n",
            "writing_score                  0\n",
            "dtype: int64\n",
            "Numeric columns: ['math_score', 'reading_score', 'writing_score']\n",
            "Categorical columns: ['gender', 'race/ethnicity', 'parental_level_of_education', 'lunch', 'test_preparation_course']\n",
            "Outliers in math_score: 8\n",
            "Outliers in reading_score: 8\n",
            "Outliers in writing_score: 5\n",
            "math_score                                       1.000000\n",
            "reading_score                                    0.817580\n",
            "writing_score                                    0.802642\n",
            "lunch_standard                                   0.350877\n",
            "race/ethnicity_group E                           0.205855\n",
            "gender_male                                      0.167982\n",
            "parental_level_of_education_bachelor's degree    0.079664\n",
            "parental_level_of_education_master's degree      0.060417\n",
            "race/ethnicity_group D                           0.050071\n",
            "parental_level_of_education_some college         0.037056\n",
            "race/ethnicity_group C                          -0.073387\n",
            "parental_level_of_education_some high school    -0.079852\n",
            "race/ethnicity_group B                          -0.084250\n",
            "parental_level_of_education_high school         -0.128725\n",
            "test_preparation_course_none                    -0.177702\n",
            "Name: math_score, dtype: float64\n"
          ]
        }
      ]
    },
    {
      "cell_type": "code",
      "source": [
        "corr = df.corr(numeric_only=True)\n",
        "corr['math_score'].sort_values(ascending=False)\n"
      ],
      "metadata": {
        "colab": {
          "base_uri": "https://localhost:8080/",
          "height": 554
        },
        "id": "uJdGEXTN3nXy",
        "outputId": "7fbae60b-a1cd-4fa5-9581-66b8228020d8"
      },
      "execution_count": null,
      "outputs": [
        {
          "output_type": "execute_result",
          "data": {
            "text/plain": [
              "math_score                                       1.000000\n",
              "reading_score                                    0.817580\n",
              "writing_score                                    0.802642\n",
              "lunch_standard                                   0.350877\n",
              "race/ethnicity_group E                           0.205855\n",
              "gender_male                                      0.167982\n",
              "parental_level_of_education_bachelor's degree    0.079664\n",
              "parental_level_of_education_master's degree      0.060417\n",
              "race/ethnicity_group D                           0.050071\n",
              "parental_level_of_education_some college         0.037056\n",
              "race/ethnicity_group C                          -0.073387\n",
              "parental_level_of_education_some high school    -0.079852\n",
              "race/ethnicity_group B                          -0.084250\n",
              "parental_level_of_education_high school         -0.128725\n",
              "test_preparation_course_none                    -0.177702\n",
              "Name: math_score, dtype: float64"
            ],
            "text/html": [
              "<div>\n",
              "<style scoped>\n",
              "    .dataframe tbody tr th:only-of-type {\n",
              "        vertical-align: middle;\n",
              "    }\n",
              "\n",
              "    .dataframe tbody tr th {\n",
              "        vertical-align: top;\n",
              "    }\n",
              "\n",
              "    .dataframe thead th {\n",
              "        text-align: right;\n",
              "    }\n",
              "</style>\n",
              "<table border=\"1\" class=\"dataframe\">\n",
              "  <thead>\n",
              "    <tr style=\"text-align: right;\">\n",
              "      <th></th>\n",
              "      <th>math_score</th>\n",
              "    </tr>\n",
              "  </thead>\n",
              "  <tbody>\n",
              "    <tr>\n",
              "      <th>math_score</th>\n",
              "      <td>1.000000</td>\n",
              "    </tr>\n",
              "    <tr>\n",
              "      <th>reading_score</th>\n",
              "      <td>0.817580</td>\n",
              "    </tr>\n",
              "    <tr>\n",
              "      <th>writing_score</th>\n",
              "      <td>0.802642</td>\n",
              "    </tr>\n",
              "    <tr>\n",
              "      <th>lunch_standard</th>\n",
              "      <td>0.350877</td>\n",
              "    </tr>\n",
              "    <tr>\n",
              "      <th>race/ethnicity_group E</th>\n",
              "      <td>0.205855</td>\n",
              "    </tr>\n",
              "    <tr>\n",
              "      <th>gender_male</th>\n",
              "      <td>0.167982</td>\n",
              "    </tr>\n",
              "    <tr>\n",
              "      <th>parental_level_of_education_bachelor's degree</th>\n",
              "      <td>0.079664</td>\n",
              "    </tr>\n",
              "    <tr>\n",
              "      <th>parental_level_of_education_master's degree</th>\n",
              "      <td>0.060417</td>\n",
              "    </tr>\n",
              "    <tr>\n",
              "      <th>race/ethnicity_group D</th>\n",
              "      <td>0.050071</td>\n",
              "    </tr>\n",
              "    <tr>\n",
              "      <th>parental_level_of_education_some college</th>\n",
              "      <td>0.037056</td>\n",
              "    </tr>\n",
              "    <tr>\n",
              "      <th>race/ethnicity_group C</th>\n",
              "      <td>-0.073387</td>\n",
              "    </tr>\n",
              "    <tr>\n",
              "      <th>parental_level_of_education_some high school</th>\n",
              "      <td>-0.079852</td>\n",
              "    </tr>\n",
              "    <tr>\n",
              "      <th>race/ethnicity_group B</th>\n",
              "      <td>-0.084250</td>\n",
              "    </tr>\n",
              "    <tr>\n",
              "      <th>parental_level_of_education_high school</th>\n",
              "      <td>-0.128725</td>\n",
              "    </tr>\n",
              "    <tr>\n",
              "      <th>test_preparation_course_none</th>\n",
              "      <td>-0.177702</td>\n",
              "    </tr>\n",
              "  </tbody>\n",
              "</table>\n",
              "</div><br><label><b>dtype:</b> float64</label>"
            ]
          },
          "metadata": {},
          "execution_count": 6
        }
      ]
    },
    {
      "cell_type": "code",
      "source": [
        "from sklearn.model_selection import train_test_split\n",
        "from sklearn.linear_model import LinearRegression\n",
        "from sklearn.metrics import mean_absolute_error, mean_squared_error, r2_score\n",
        "import numpy as np\n",
        "\n",
        "X = df.drop(columns=['math_score'])\n",
        "y = df['math_score']\n",
        "\n",
        "# one-hot encode categorical features\n",
        "X = pd.get_dummies(X, drop_first=True)\n",
        "\n",
        "X_train, X_test, y_train, y_test = train_test_split(X, y, test_size=0.2, random_state=42)\n",
        "\n",
        "model = LinearRegression()\n",
        "model.fit(X_train, y_train)\n",
        "\n",
        "y_pred = model.predict(X_test)\n",
        "\n",
        "mae = mean_absolute_error(y_test, y_pred)\n",
        "mse = mean_squared_error(y_test, y_pred)\n",
        "rmse = np.sqrt(mse)\n",
        "r2_test = r2_score(y_test, y_pred)\n",
        "r2_train = model.score(X_train, y_train)\n",
        "gap = abs(r2_train - r2_test)\n",
        "print(mae, mse, rmse, r2_test, r2_train,gap)\n"
      ],
      "metadata": {
        "colab": {
          "base_uri": "https://localhost:8080/"
        },
        "id": "FlTeou6T6ZUn",
        "outputId": "6fc77ce2-128c-4172-c0cb-38003031c7cf"
      },
      "execution_count": 4,
      "outputs": [
        {
          "output_type": "stream",
          "name": "stdout",
          "text": [
            "0.2781012880760493 0.12667197758547108 0.3559100695196345 0.8804332983749564 0.8743172040139593 0.0061160943609971374\n"
          ]
        }
      ]
    },
    {
      "cell_type": "code",
      "source": [
        "import pandas as pd\n",
        "import numpy as np\n",
        "from statsmodels.stats.outliers_influence import variance_inflation_factor\n",
        "\n",
        "# Ensure X is all numeric\n",
        "X_numeric = X.select_dtypes(include=[np.number])\n",
        "\n",
        "# Compute VIF\n",
        "X_vif = pd.DataFrame()\n",
        "X_vif[\"feature\"] = X_numeric.columns\n",
        "X_vif[\"VIF\"] = [variance_inflation_factor(X_numeric.values, i) for i in range(X_numeric.shape[1])]\n",
        "\n",
        "print(X_vif)\n",
        "\n"
      ],
      "metadata": {
        "colab": {
          "base_uri": "https://localhost:8080/"
        },
        "id": "UE6wq6727zkO",
        "outputId": "0b5f5ecb-6d3c-4e4b-893a-8ce6bd6cc26e"
      },
      "execution_count": 6,
      "outputs": [
        {
          "output_type": "stream",
          "name": "stdout",
          "text": [
            "         feature        VIF\n",
            "0  reading_score  11.268556\n",
            "1  writing_score  11.268556\n"
          ]
        }
      ]
    },
    {
      "cell_type": "code",
      "source": [
        "import statsmodels.api as sm\n",
        "\n",
        "# Ensure dummies are numeric\n",
        "X = pd.get_dummies(X, drop_first=True)\n",
        "\n",
        "# Force all to numeric (coerce errors → NaN)\n",
        "X = X.apply(pd.to_numeric, errors='coerce')\n",
        "\n",
        "# Drop any NaN rows (if coercion produced some)\n",
        "X = X.dropna()\n",
        "\n",
        "# Add constant again\n",
        "X_vif = sm.add_constant(X)\n"
      ],
      "metadata": {
        "id": "_7yOKxa78Y5j"
      },
      "execution_count": 8,
      "outputs": []
    },
    {
      "cell_type": "code",
      "source": [
        "print(X_vif.dtypes)   # should all be int64 or float64\n"
      ],
      "metadata": {
        "colab": {
          "base_uri": "https://localhost:8080/"
        },
        "id": "NrRnFeMe8bgL",
        "outputId": "c9b8f130-569b-4b2c-8dd7-b22864d0be83"
      },
      "execution_count": 9,
      "outputs": [
        {
          "output_type": "stream",
          "name": "stdout",
          "text": [
            "const                                            float64\n",
            "reading_score                                    float64\n",
            "writing_score                                    float64\n",
            "gender_male                                         bool\n",
            "race/ethnicity_group B                              bool\n",
            "race/ethnicity_group C                              bool\n",
            "race/ethnicity_group D                              bool\n",
            "race/ethnicity_group E                              bool\n",
            "parental_level_of_education_bachelor's degree       bool\n",
            "parental_level_of_education_high school             bool\n",
            "parental_level_of_education_master's degree         bool\n",
            "parental_level_of_education_some college            bool\n",
            "parental_level_of_education_some high school        bool\n",
            "lunch_standard                                      bool\n",
            "test_preparation_course_none                        bool\n",
            "dtype: object\n"
          ]
        }
      ]
    },
    {
      "cell_type": "code",
      "source": [
        "# Convert all bool columns to int (0/1)\n",
        "X_vif = X_vif.astype(float)   # or use .astype(int) if you prefer 0/1\n"
      ],
      "metadata": {
        "id": "vAI_NtQL8eGF"
      },
      "execution_count": 10,
      "outputs": []
    },
    {
      "cell_type": "code",
      "source": [
        "from statsmodels.stats.outliers_influence import variance_inflation_factor\n",
        "\n",
        "# Ensure all features are numeric\n",
        "X_vif = X_vif.apply(lambda x: x.astype(int) if x.dtype == 'bool' else x)\n",
        "X_vif = X_vif.astype(float)  # make sure all are float for statsmodels\n",
        "\n",
        "# Compute VIF\n",
        "vif_data = pd.DataFrame()\n",
        "vif_data[\"feature\"] = X_vif.columns\n",
        "vif_data[\"VIF\"] = [variance_inflation_factor(X_vif.values, i)\n",
        "                   for i in range(X_vif.shape[1])]\n",
        "print(vif_data.sort_values(by=\"VIF\", ascending=False))\n"
      ],
      "metadata": {
        "colab": {
          "base_uri": "https://localhost:8080/"
        },
        "id": "xHLLcfJn8_x0",
        "outputId": "ff42a0ae-a4ab-4eda-ee9f-f01d98cfb622"
      },
      "execution_count": 11,
      "outputs": [
        {
          "output_type": "stream",
          "name": "stdout",
          "text": [
            "                                          feature        VIF\n",
            "0                                           const  20.479928\n",
            "2                                   writing_score  15.197227\n",
            "1                                   reading_score  13.098439\n",
            "5                          race/ethnicity_group C   3.182481\n",
            "6                          race/ethnicity_group D   3.020222\n",
            "4                          race/ethnicity_group B   2.565534\n",
            "7                          race/ethnicity_group E   2.275519\n",
            "11       parental_level_of_education_some college   1.570961\n",
            "9         parental_level_of_education_high school   1.569870\n",
            "12   parental_level_of_education_some high school   1.545603\n",
            "8   parental_level_of_education_bachelor's degree   1.372319\n",
            "14                   test_preparation_course_none   1.257279\n",
            "10    parental_level_of_education_master's degree   1.215077\n",
            "3                                     gender_male   1.201317\n",
            "13                                 lunch_standard   1.115216\n"
          ]
        }
      ]
    },
    {
      "cell_type": "code",
      "source": [
        "import statsmodels.api as sm\n",
        "\n",
        "# X_vif is your features after get_dummies and adding constant\n",
        "model = sm.OLS(df['math_score'], X_vif).fit()\n",
        "residuals = model.resid  # differences between predicted and actual values\n"
      ],
      "metadata": {
        "id": "tU2g4tCaC7ov"
      },
      "execution_count": 13,
      "outputs": []
    },
    {
      "cell_type": "code",
      "source": [
        "from scipy.stats import shapiro\n",
        "shapiro_test = shapiro(residuals)\n",
        "shapiro_p = shapiro_test[1]  # this is what goes in your table\n",
        "print(\"Shapiro p-value:\", shapiro_p)\n"
      ],
      "metadata": {
        "colab": {
          "base_uri": "https://localhost:8080/"
        },
        "id": "4AbyF9S_DBWY",
        "outputId": "7d3248a5-2e24-4fed-e29b-53eb7c2189fb"
      },
      "execution_count": 14,
      "outputs": [
        {
          "output_type": "stream",
          "name": "stdout",
          "text": [
            "Shapiro p-value: 0.4088062278075787\n"
          ]
        }
      ]
    },
    {
      "cell_type": "code",
      "source": [
        "from statsmodels.stats.stattools import durbin_watson\n",
        "dw = durbin_watson(residuals)\n",
        "print(\"Durbin-Watson:\", dw)\n"
      ],
      "metadata": {
        "colab": {
          "base_uri": "https://localhost:8080/"
        },
        "id": "v-ofUbjpDKcb",
        "outputId": "a3330cd1-5043-481e-c064-a450f892a71b"
      },
      "execution_count": 15,
      "outputs": [
        {
          "output_type": "stream",
          "name": "stdout",
          "text": [
            "Durbin-Watson: 1.9861246335872516\n"
          ]
        }
      ]
    },
    {
      "cell_type": "code",
      "source": [
        "import statsmodels.stats.api as sms\n",
        "bp_test = sms.het_breuschpagan(residuals, model.model.exog)\n",
        "bp_p = bp_test[1]\n",
        "print(\"Breusch-Pagan p-value:\", bp_p)\n"
      ],
      "metadata": {
        "colab": {
          "base_uri": "https://localhost:8080/"
        },
        "id": "OkyijYauDRVj",
        "outputId": "b066a248-0fbb-437e-df20-ce0faaca56a8"
      },
      "execution_count": 16,
      "outputs": [
        {
          "output_type": "stream",
          "name": "stdout",
          "text": [
            "Breusch-Pagan p-value: 0.2871122862369354\n"
          ]
        }
      ]
    },
    {
      "cell_type": "code",
      "source": [
        "from sklearn.preprocessing import PolynomialFeatures\n",
        "from sklearn.linear_model import LinearRegression\n",
        "from sklearn.model_selection import cross_val_score\n",
        "import numpy as np\n",
        "\n",
        "X = df[['writing_score']]\n",
        "y = df['math_score']\n",
        "\n",
        "best_r2 = -np.inf\n",
        "best_deg = 1\n",
        "for deg in [1,2,3]:\n",
        "    poly = PolynomialFeatures(degree=deg, include_bias=False)\n",
        "    X_poly = poly.fit_transform(X)\n",
        "    r2 = cross_val_score(LinearRegression(), X_poly, y, cv=5, scoring='r2').mean()\n",
        "    if r2 > best_r2:\n",
        "        best_r2 = r2\n",
        "        best_deg = deg\n",
        "\n",
        "print(\"Best degree:\", best_deg, \"CV R²:\", best_r2)\n"
      ],
      "metadata": {
        "colab": {
          "base_uri": "https://localhost:8080/"
        },
        "id": "awpE_OLODeYO",
        "outputId": "d2a35e6c-9f03-4d55-a4aa-3fc6e9038b44"
      },
      "execution_count": 18,
      "outputs": [
        {
          "output_type": "stream",
          "name": "stdout",
          "text": [
            "Best degree: 3 CV R²: 0.640191134058069\n"
          ]
        }
      ]
    },
    {
      "cell_type": "code",
      "source": [
        "cat_cols = df.select_dtypes(include=['object']).columns\n",
        "print(cat_cols)\n"
      ],
      "metadata": {
        "colab": {
          "base_uri": "https://localhost:8080/"
        },
        "id": "ZEgPw-QYD5Qf",
        "outputId": "ffb7022d-4fb3-43e2-b6ef-a079303b9ba7"
      },
      "execution_count": 19,
      "outputs": [
        {
          "output_type": "stream",
          "name": "stdout",
          "text": [
            "Index([], dtype='object')\n"
          ]
        }
      ]
    },
    {
      "cell_type": "code",
      "source": [
        "from sklearn.preprocessing import OneHotEncoder\n",
        "from sklearn.compose import ColumnTransformer\n",
        "\n",
        "# Target\n",
        "y = df['math_score']\n",
        "\n",
        "# Features\n",
        "X = df.drop(columns=['math_score'])\n",
        "\n",
        "# One-Hot Encode categorical columns\n",
        "preprocessor = ColumnTransformer(\n",
        "    transformers=[\n",
        "        ('cat', OneHotEncoder(drop='first'), cat_cols)  # drop='first' to avoid dummy variable trap\n",
        "    ],\n",
        "    remainder='passthrough'  # keep numeric columns as-is\n",
        ")\n",
        "\n",
        "X_enc = preprocessor.fit_transform(X)\n",
        "\n",
        "# Ensure numeric type\n",
        "import numpy as np\n",
        "X_enc = X_enc.astype(float)\n"
      ],
      "metadata": {
        "id": "O0Trdtb8EKZ5"
      },
      "execution_count": 21,
      "outputs": []
    },
    {
      "cell_type": "code",
      "source": [
        "from sklearn.linear_model import LinearRegression\n",
        "from sklearn.model_selection import cross_val_score\n",
        "\n",
        "# X before encoding (only numeric columns)\n",
        "X_num = df.select_dtypes(include=['int64','float64'])\n",
        "y = df['math_score']\n",
        "\n",
        "model = LinearRegression()\n",
        "r2_before = cross_val_score(model, X_num, y, cv=5, scoring='r2').mean()\n",
        "print(\"R² before encoding:\", r2_before)\n"
      ],
      "metadata": {
        "colab": {
          "base_uri": "https://localhost:8080/"
        },
        "id": "sk36lMF2Es5-",
        "outputId": "46683c20-e8de-4d7a-cde6-b6f997d9adf7"
      },
      "execution_count": 23,
      "outputs": [
        {
          "output_type": "stream",
          "name": "stdout",
          "text": [
            "R² before encoding: 1.0\n"
          ]
        }
      ]
    },
    {
      "cell_type": "code",
      "source": [
        "from sklearn.preprocessing import OneHotEncoder\n",
        "from sklearn.compose import ColumnTransformer\n",
        "import numpy as np\n",
        "\n",
        "cat_cols = df.select_dtypes(include=['object']).columns\n",
        "X = df.drop(columns=['math_score'])\n",
        "\n",
        "preprocessor = ColumnTransformer(\n",
        "    transformers=[('cat', OneHotEncoder(drop='first'), cat_cols)],\n",
        "    remainder='passthrough'\n",
        ")\n",
        "X_enc = preprocessor.fit_transform(X).astype(float)\n",
        "\n",
        "r2_after = cross_val_score(model, X_enc, y, cv=5, scoring='r2').mean()\n",
        "print(\"R² after encoding:\", r2_after)\n"
      ],
      "metadata": {
        "colab": {
          "base_uri": "https://localhost:8080/"
        },
        "id": "50uXGOh0EuGg",
        "outputId": "507a0ee4-ce5e-4587-cb02-cd0ced94e6e3"
      },
      "execution_count": 24,
      "outputs": [
        {
          "output_type": "stream",
          "name": "stdout",
          "text": [
            "R² after encoding: 0.8717997497009925\n"
          ]
        }
      ]
    },
    {
      "cell_type": "code",
      "source": [
        "from sklearn.linear_model import Lasso\n",
        "from sklearn.model_selection import GridSearchCV, train_test_split\n",
        "\n",
        "X_train, X_test, y_train, y_test = train_test_split(X_enc, y, test_size=0.2, random_state=42)\n",
        "\n",
        "lasso = Lasso(max_iter=10000)\n",
        "alphas = [0.01, 0.1, 1, 10]\n",
        "grid = GridSearchCV(lasso, param_grid={'alpha': alphas}, cv=5, scoring='r2')\n",
        "grid.fit(X_train, y_train)\n",
        "\n",
        "best_alpha = grid.best_params_['alpha']\n",
        "best_r2 = grid.best_score_\n",
        "test_r2 = grid.score(X_test, y_test)\n",
        "non_zero = np.sum(grid.best_estimator_.coef_ != 0)\n",
        "\n",
        "print(\"Best alpha:\", best_alpha)\n",
        "print(\"CV R²:\", best_r2)\n",
        "print(\"Test R²:\", test_r2)\n",
        "print(\"# non-zero coefs:\", non_zero)\n"
      ],
      "metadata": {
        "colab": {
          "base_uri": "https://localhost:8080/"
        },
        "id": "lYrFRVHDFBnO",
        "outputId": "a20597a2-3b5e-464b-94c6-3a071f680d1d"
      },
      "execution_count": 25,
      "outputs": [
        {
          "output_type": "stream",
          "name": "stdout",
          "text": [
            "Best alpha: 0.01\n",
            "CV R²: 0.8653723647782485\n",
            "Test R²: 0.8812308883859827\n",
            "# non-zero coefs: 7\n"
          ]
        }
      ]
    },
    {
      "cell_type": "code",
      "source": [
        "from sklearn.linear_model import Ridge, Lasso\n",
        "from sklearn.model_selection import GridSearchCV, train_test_split\n",
        "import numpy as np\n",
        "\n",
        "# Split dataset\n",
        "X_train, X_test, y_train, y_test = train_test_split(X_enc, y, test_size=0.2, random_state=42)\n",
        "\n",
        "# Alpha values to try\n",
        "alpha_grid = [0.01, 0.1, 1, 10]\n",
        "\n",
        "# ----- Lasso -----\n",
        "lasso = Lasso(max_iter=10000)\n",
        "grid_lasso = GridSearchCV(lasso, param_grid={'alpha': alpha_grid}, cv=5, scoring='r2')\n",
        "grid_lasso.fit(X_train, y_train)\n",
        "\n",
        "# Values for table\n",
        "lasso_best_alpha = grid_lasso.best_params_['alpha']\n",
        "lasso_r2_test = grid_lasso.score(X_test, y_test)\n",
        "lasso_nonzero = np.sum(grid_lasso.best_estimator_.coef_ != 0)\n",
        "\n",
        "print(\"Lasso:\")\n",
        "print(\"Alpha grid:\", alpha_grid)\n",
        "print(\"Best alpha:\", lasso_best_alpha)\n",
        "print(\"Test R²:\", lasso_r2_test)\n",
        "print(\"# Non-zero coefficients:\", lasso_nonzero)\n",
        "\n",
        "# ----- Ridge -----\n",
        "ridge = Ridge(max_iter=10000)\n",
        "grid_ridge = GridSearchCV(ridge, param_grid={'alpha': alpha_grid}, cv=5, scoring='r2')\n",
        "grid_ridge.fit(X_train, y_train)\n",
        "\n",
        "ridge_best_alpha = grid_ridge.best_params_['alpha']\n",
        "ridge_r2_test = grid_ridge.score(X_test, y_test)\n",
        "\n",
        "print(\"\\nRidge:\")\n",
        "print(\"Alpha grid:\", alpha_grid)\n",
        "print(\"Best alpha:\", ridge_best_alpha)\n",
        "print(\"Test R²:\", ridge_r2_test)\n",
        "# Ridge keeps all coefficients non-zero\n",
        "print(\"# Non-zero coefficients: all\")\n"
      ],
      "metadata": {
        "colab": {
          "base_uri": "https://localhost:8080/"
        },
        "id": "eFA-63ICFJZo",
        "outputId": "8250ef3a-0254-4420-9dfd-769bcfc5ba68"
      },
      "execution_count": 26,
      "outputs": [
        {
          "output_type": "stream",
          "name": "stdout",
          "text": [
            "Lasso:\n",
            "Alpha grid: [0.01, 0.1, 1, 10]\n",
            "Best alpha: 0.01\n",
            "Test R²: 0.8812308883859827\n",
            "# Non-zero coefficients: 7\n",
            "\n",
            "Ridge:\n",
            "Alpha grid: [0.01, 0.1, 1, 10]\n",
            "Best alpha: 1\n",
            "Test R²: 0.8804513937125638\n",
            "# Non-zero coefficients: all\n"
          ]
        }
      ]
    },
    {
      "cell_type": "code",
      "source": [
        "from sklearn.linear_model import LinearRegression\n",
        "from sklearn.model_selection import cross_val_score, cross_val_predict\n",
        "from sklearn.metrics import mean_squared_error\n",
        "import numpy as np\n",
        "\n",
        "cv_folds = 5\n",
        "model = LinearRegression()\n",
        "\n",
        "# R² CV scores\n",
        "r2_scores = cross_val_score(model, X_enc, y, cv=cv_folds, scoring='r2')\n",
        "r2_mean = r2_scores.mean()\n",
        "r2_std = r2_scores.std()\n",
        "\n",
        "# RMSE CV\n",
        "y_pred = cross_val_predict(model, X_enc, y, cv=cv_folds)\n",
        "rmse = np.sqrt(mean_squared_error(y, y_pred))\n",
        "\n",
        "# RMSE CV std can be approximated per fold\n",
        "from sklearn.model_selection import KFold\n",
        "\n",
        "kf = KFold(n_splits=cv_folds, shuffle=True, random_state=42)\n",
        "rmse_per_fold = []\n",
        "for train_idx, test_idx in kf.split(X_enc):\n",
        "    model.fit(X_enc[train_idx], y.iloc[train_idx])\n",
        "    y_pred_fold = model.predict(X_enc[test_idx])\n",
        "    rmse_fold = np.sqrt(mean_squared_error(y.iloc[test_idx], y_pred_fold))\n",
        "    rmse_per_fold.append(rmse_fold)\n",
        "\n",
        "rmse_mean = np.mean(rmse_per_fold)\n",
        "rmse_std = np.std(rmse_per_fold)\n",
        "\n",
        "print(\"R² CV mean:\", r2_mean)\n",
        "print(\"R² CV std:\", r2_std)\n",
        "print(\"RMSE CV mean:\", rmse_mean)\n",
        "print(\"RMSE CV std:\", rmse_std)\n"
      ],
      "metadata": {
        "colab": {
          "base_uri": "https://localhost:8080/"
        },
        "id": "1t-t-jT5Gwlu",
        "outputId": "3e587f1c-6520-4156-f611-22bc2ef27e3b"
      },
      "execution_count": 27,
      "outputs": [
        {
          "output_type": "stream",
          "name": "stdout",
          "text": [
            "R² CV mean: 0.8717997497009925\n",
            "R² CV std: 0.015014562412394575\n",
            "RMSE CV mean: 0.35696094939528844\n",
            "RMSE CV std: 0.01537149610534244\n"
          ]
        }
      ]
    }
  ]
}